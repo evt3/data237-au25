{
 "cells": [
  {
   "attachments": {},
   "cell_type": "markdown",
   "metadata": {},
   "source": [
    "# Exercise 0: Environment Setup\n",
    "\n",
    "*Due October 3, 2025*\n",
    "\n",
    "In order to do upcoming coursework, you will need to install a few Python packages:\n",
    "\n",
    "- `pandas` for data wrangling\n",
    "- `altair` for visualization\n",
    "\n",
    "Before doing so, we need to choose where to intall them."
   ]
  },
  {
   "attachments": {},
   "cell_type": "markdown",
   "metadata": {},
   "source": [
    "## Computing Environment\n",
    "\n",
    "You will need to install Python packages in an environment where you can access them again throughout the course. We recommend doing this by setting up a virtual environment, so Python installations for this course are separate from your computer's primary Python installation. The `venv` module, built into Python 3.3 and later, is the most common way to do this.\n",
    "\n",
    "You can set up a virtual environment on your machine by following these steps:\n",
    "\n",
    "1. Navigate to Your Project Directory in the Terminal:\n",
    "\n",
    "Open your terminal or command prompt and use the `cd` command to navigate to the root directory of your Python project (e.g., the folder you are storing your work for this course in). If you don't have a project directory for the course yet, create one.\n",
    "\n",
    "`cd path/to/your/project`\n",
    "\n",
    "2. Create the Virtual Environment:\n",
    "\n",
    "Execute the following command to create a new virtual environment. Replace `env` with your desired name for the environment (e.g., `venv` or `env` are common choices). \n",
    "\n",
    "`python3 -m venv env`\n",
    "\n",
    "This command creates a new directory named `env` (or whatever you named it) within your project directory. This directory will contain a copy of the Python interpreter and a site-packages directory for isolated package installations.\n",
    "\n",
    "3. Activate the Virtual Environment:\n",
    "\n",
    "Before you can use the virtual environment, you need to activate it. You will need to do this before using the environment to run programs. If you are using VS Code, you may need to select the environment as your Python interpreter using . \n",
    "\n",
    "The activation command varies slightly depending on your operating system and shell: \n",
    "\n",
    "- macOS/Linux: `source env/bin/activate`\n",
    "- Windows (Command Prompt): `env\\Scripts\\activate.bat`\n",
    "- Windows (PowerShell): `env\\Scripts\\Activate.ps1`\n",
    "\n",
    "Once activated, your terminal prompt will typically display the name of the activated environment (e.g., `(env) your_username@your_computer:~/path/to/your/project$`).\n",
    "\n",
    "4. Install Packages:\n",
    "\n",
    "With the virtual environment activated, you can now install Python packages using `pip`. These packages will be installed only within this specific environment, preventing conflicts with other Python projects or your global Python installation. \n",
    "\n",
    "**Now let's pip install `pandas` and `altair`:** \n",
    "\n",
    "`pip install pandas`\n",
    "\n",
    "`pip install altair`\n",
    "\n",
    "5. Deactivating the Virtual Environment:\n",
    "\n",
    "When you are finished working in the virtual environment (e.g., finished running code for your coursework), you can deactivate it using the deactivate command.\n",
    "\n",
    "`deactivate`\n",
    "\n",
    "This returns your terminal shell to using you machine's default Python interpreter and packages. If you deactive the virtual environment you will need to reactivated it (Step 3 above) in order to resume using the virtual environment to run programs.\n",
    "\n",
    "If this doesn't work for you or if students prefer a cloud computing option, you can work in [Google Colab](https://colab.research.google.com/drive/16pBJQePbqkz3QFV54L4NIkOn1kwpuRrj#scrollTo=u1wdmFKqylSI)."
   ]
  },
  {
   "cell_type": "markdown",
   "metadata": {},
   "source": [
    "## Making It Go\n",
    "\n",
    "Now that you've installed the `pandas` and `altair` packages, let's import them and run a short program to check that everything is working in advance of upcoming exercises. \n",
    "\n",
    "The following command loads a dataset which you can download from the [course GitHub page](https://github.com/kalealex/data237-au25). The code below assumes it's in a folder named `data`, but you may need to change that depending on the relative path between this file to the data."
   ]
  },
  {
   "cell_type": "code",
   "execution_count": null,
   "metadata": {},
   "outputs": [],
   "source": [
    "# run me\n",
    "import pandas as pd\n",
    "df = pd.read_csv('data/storms.csv')\n",
    "df.head()"
   ]
  },
  {
   "cell_type": "markdown",
   "metadata": {},
   "source": [
    "The following code creates a simple histogram of wind speeds of measured storms. You will be exploring this dataset in Exercise 2."
   ]
  },
  {
   "cell_type": "code",
   "execution_count": null,
   "metadata": {},
   "outputs": [],
   "source": [
    "# run me too\n",
    "import altair as alt\n",
    "alt.data_transformers.disable_max_rows()\n",
    "\n",
    "alt.Chart(df).mark_bar().encode(\n",
    "    alt.X(\"wind:Q\", bin=True),\n",
    "    y='count()',\n",
    ")"
   ]
  }
 ],
 "metadata": {
  "kernelspec": {
   "display_name": ".venv",
   "language": "python",
   "name": "python3"
  },
  "language_info": {
   "codemirror_mode": {
    "name": "ipython",
    "version": 3
   },
   "file_extension": ".py",
   "mimetype": "text/x-python",
   "name": "python",
   "nbconvert_exporter": "python",
   "pygments_lexer": "ipython3",
   "version": "3.9.13"
  },
  "orig_nbformat": 4,
  "vscode": {
   "interpreter": {
    "hash": "aa2e162a41adc7a3f61ad223fa9443b4418ac738dcb7b70435c59ac04d16d19c"
   }
  }
 },
 "nbformat": 4,
 "nbformat_minor": 2
}
